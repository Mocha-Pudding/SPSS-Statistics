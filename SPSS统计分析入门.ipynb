{
 "cells": [
  {
   "cell_type": "markdown",
   "metadata": {},
   "source": [
    "## 一、SPSS的三种窗口"
   ]
  },
  {
   "cell_type": "markdown",
   "metadata": {},
   "source": [
    "### 1.数据视图\n",
    "- 产看数据\n",
    "- 编辑数据\n",
    "   \n",
    "<img src=\"images/数据视图.png\",width=86%>"
   ]
  },
  {
   "cell_type": "markdown",
   "metadata": {},
   "source": [
    "### 2.变量视图\n",
    "- 查看变量\n",
    "- 编辑变量定义\n",
    "   \n",
    "<img src=\"images/变量视图.png\",width=86%>"
   ]
  },
  {
   "cell_type": "markdown",
   "metadata": {},
   "source": [
    "### 3.结果窗口（输出视图）\n",
    "- 查看结果\n",
    "- 对输出结果进行编辑\n",
    "   \n",
    "<img src=\"images/输出窗口.png\" width=86%>"
   ]
  },
  {
   "cell_type": "markdown",
   "metadata": {},
   "source": [
    "## 二、常见格式数据的导入\n",
    "可导入SPSS的常见数据源\n",
    "- SPSS默认格式：.sav\n",
    "- Excel格式：.xls & .xlsx\n",
    "- 其他统计软件：SAS、Stata\n",
    "- txt格式\n",
    "- .csv格式\n",
    "   \n",
    "导入其他软件的数据(如下图所示)\n",
    "<img src=\"images/导入其他软件的数据.png\" width=90%>\n",
    "<img src=\"images/导入其他软件的数据2.png\" width=80%>"
   ]
  },
  {
   "cell_type": "markdown",
   "metadata": {},
   "source": [
    "## 三、数据准备\n",
    "1. 数据变量定义\n",
    "<img src=\"images/数据类型与数据定义.png\" width=80%>\n",
    "   \n",
    "2. 数据文件拆分\n",
    "<img src=\"images/数据拆分.png\" width=98%>\n",
    "   \n",
    "3.数据文件合并\n",
    "<img src=\"images/数据合并.png\" width=90%>"
   ]
  },
  {
   "cell_type": "markdown",
   "metadata": {
    "collapsed": true
   },
   "source": [
    "## 四、统计学基础\n",
    "\n",
    "### 1、统计学是干什么的？\n",
    "- 统计学可以做什么？\n",
    "    - 对现实世界中产生的数据进行统计分析，得到有助于人类认识这个世界的有用信息。\n",
    "    - 利用积累到的数据和规律预测未来事情的发生情况。\n",
    "- 统计学分类\n",
    "    - 对数据进行描述性分析的称为描述统计。只关心通过数据反映出的现实是什么样的。\n",
    "    - 根据已有的历史数据和规律，对未来的事情进行预测，称为推断统计。推断统计不仅关心现在的情况，而且还关心未来。\n",
    "   \n",
    "### 2、统计学的表现形式\n",
    "- 描述统计\n",
    "    - 得到数据的均值、众数、标准差、频率统计等结果\n",
    "- 统计模型\n",
    "    - 建立相关分析、回归分析、方差分析等统计模型\n",
    "- 统计图表\n",
    "    - 利用统计图表将分析的结果进行展现\n",
    "   \n",
    "### 3、数据分析的表现形式\n",
    "- 描述统计\n",
    "    - 给出业务关心问题的描述统计结果\n",
    "- 统计模型/算法\n",
    "    - 将业务要求用统计模型表现出来并部署到业务实施的IT系统中\n",
    "- 可视化分析结果\n",
    "    - 利用可视化技术将业务关系的指标、趋势表现出来供业务人员参考，以优化业务"
   ]
  },
  {
   "cell_type": "markdown",
   "metadata": {},
   "source": [
    "<img src=\"images/描述统计.png\" width=90%>\n",
    "   \n",
    "<img src=\"images/统计模型.png\" width=90%>\n",
    "   \n",
    "<img src=\"images/图表分析.png\" width=90%>"
   ]
  },
  {
   "cell_type": "code",
   "execution_count": null,
   "metadata": {
    "collapsed": true
   },
   "outputs": [],
   "source": []
  }
 ],
 "metadata": {
  "kernelspec": {
   "display_name": "Python 3",
   "language": "python",
   "name": "python3"
  },
  "language_info": {
   "codemirror_mode": {
    "name": "ipython",
    "version": 3
   },
   "file_extension": ".py",
   "mimetype": "text/x-python",
   "name": "python",
   "nbconvert_exporter": "python",
   "pygments_lexer": "ipython3",
   "version": "3.6.3"
  }
 },
 "nbformat": 4,
 "nbformat_minor": 2
}
